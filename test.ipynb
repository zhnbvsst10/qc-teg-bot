{
 "cells": [
  {
   "cell_type": "code",
   "execution_count": 1,
   "metadata": {},
   "outputs": [],
   "source": [
    "import psycopg2\n",
    "import pandas as pd"
   ]
  },
  {
   "cell_type": "code",
   "execution_count": 2,
   "metadata": {},
   "outputs": [],
   "source": [
    "conn = psycopg2.connect(dbname=\"neondb\", user=\"zhanabayevasset\", password=\"txDhFR1yl8Pi\", host='ep-cool-poetry-346809.us-east-2.aws.neon.tech')\n",
    "cursor = conn.cursor()"
   ]
  },
  {
   "cell_type": "code",
   "execution_count": 3,
   "metadata": {},
   "outputs": [],
   "source": [
    "cursor.execute(\"\"\"drop table pvc_params\"\"\")\n",
    "conn.commit()"
   ]
  },
  {
   "cell_type": "code",
   "execution_count": 4,
   "metadata": {},
   "outputs": [],
   "source": [
    "cursor.execute(\"\"\"create table pvc_params \n",
    "                (ID serial PRIMARY KEY,\n",
    "                BRAND varchar null,\n",
    "                NOMINAL_DIAMETER float null,\n",
    "                VIEW varchar null,\n",
    "                FUNCTIONALITY varchar null,\n",
    "                DIAMETER int null,\n",
    "                WEIGHT int null,\n",
    "                WIDTH int null,\n",
    "                MARK_CONTROL varchar null,\n",
    "                LENGTH int null,\n",
    "                MASTER varchar null,\n",
    "                created_at timestamp not null,\n",
    "                updated_at timestamp not null) \"\"\")"
   ]
  },
  {
   "cell_type": "code",
   "execution_count": 5,
   "metadata": {},
   "outputs": [],
   "source": [
    "conn.commit()"
   ]
  },
  {
   "cell_type": "code",
   "execution_count": 7,
   "metadata": {},
   "outputs": [],
   "source": [
    "cursor.close()\n",
    "conn.close()"
   ]
  },
  {
   "cell_type": "code",
   "execution_count": 6,
   "metadata": {},
   "outputs": [],
   "source": [
    "def update_db():\n",
    "    conn = psycopg2.connect(dbname=\"neondb\", user=\"zhanabayevasset\", password=\"txDhFR1yl8Pi\", host='ep-cool-poetry-346809.us-east-2.aws.neon.tech')\n",
    "    cursor = conn.cursor()\n",
    "    cursor.execute(\"\"\"select * from pvc_params\"\"\")\n",
    "    data = cursor.fetchall()\n",
    "    cols =[]\n",
    "    for i in cursor.description:\n",
    "        cols.append(i[0])\n",
    "    cursor.close()\n",
    "    conn.close()\n",
    "    return pd.DataFrame(data, columns = cols)"
   ]
  },
  {
   "cell_type": "code",
   "execution_count": 10,
   "metadata": {},
   "outputs": [],
   "source": [
    "df = update_db()"
   ]
  },
  {
   "cell_type": "code",
   "execution_count": 11,
   "metadata": {},
   "outputs": [
    {
     "data": {
      "text/html": [
       "<div>\n",
       "<style scoped>\n",
       "    .dataframe tbody tr th:only-of-type {\n",
       "        vertical-align: middle;\n",
       "    }\n",
       "\n",
       "    .dataframe tbody tr th {\n",
       "        vertical-align: top;\n",
       "    }\n",
       "\n",
       "    .dataframe thead th {\n",
       "        text-align: right;\n",
       "    }\n",
       "</style>\n",
       "<table border=\"1\" class=\"dataframe\">\n",
       "  <thead>\n",
       "    <tr style=\"text-align: right;\">\n",
       "      <th></th>\n",
       "      <th>id</th>\n",
       "      <th>brand</th>\n",
       "      <th>nominal_diameter</th>\n",
       "      <th>view</th>\n",
       "      <th>functionality</th>\n",
       "      <th>diameter</th>\n",
       "      <th>weight</th>\n",
       "      <th>width</th>\n",
       "      <th>mark_control</th>\n",
       "      <th>length</th>\n",
       "      <th>master</th>\n",
       "      <th>created_at</th>\n",
       "      <th>updated_at</th>\n",
       "    </tr>\n",
       "  </thead>\n",
       "  <tbody>\n",
       "    <tr>\n",
       "      <th>0</th>\n",
       "      <td>1</td>\n",
       "      <td>okyanus</td>\n",
       "      <td>70.0</td>\n",
       "      <td>ok</td>\n",
       "      <td>ok</td>\n",
       "      <td>70</td>\n",
       "      <td>2</td>\n",
       "      <td>NaN</td>\n",
       "      <td>None</td>\n",
       "      <td>NaN</td>\n",
       "      <td>adlet</td>\n",
       "      <td>2023-02-14 12:37:03.826308</td>\n",
       "      <td>2023-02-14 12:37:03.826308</td>\n",
       "    </tr>\n",
       "    <tr>\n",
       "      <th>1</th>\n",
       "      <td>2</td>\n",
       "      <td>okyanus</td>\n",
       "      <td>70.0</td>\n",
       "      <td>ok</td>\n",
       "      <td>ok</td>\n",
       "      <td>71</td>\n",
       "      <td>3</td>\n",
       "      <td>NaN</td>\n",
       "      <td>None</td>\n",
       "      <td>NaN</td>\n",
       "      <td>adlet</td>\n",
       "      <td>2023-02-14 12:43:20.990433</td>\n",
       "      <td>2023-02-14 12:43:20.990433</td>\n",
       "    </tr>\n",
       "    <tr>\n",
       "      <th>2</th>\n",
       "      <td>3</td>\n",
       "      <td>okyanus</td>\n",
       "      <td>70.0</td>\n",
       "      <td>ok</td>\n",
       "      <td>ok</td>\n",
       "      <td>70</td>\n",
       "      <td>3</td>\n",
       "      <td>10.0</td>\n",
       "      <td>ok</td>\n",
       "      <td>100.0</td>\n",
       "      <td>adlet</td>\n",
       "      <td>2023-02-14 13:11:58.860257</td>\n",
       "      <td>2023-02-14 13:11:58.860257</td>\n",
       "    </tr>\n",
       "  </tbody>\n",
       "</table>\n",
       "</div>"
      ],
      "text/plain": [
       "   id    brand  nominal_diameter view functionality  diameter  weight  width  \\\n",
       "0   1  okyanus              70.0   ok            ok        70       2    NaN   \n",
       "1   2  okyanus              70.0   ok            ok        71       3    NaN   \n",
       "2   3  okyanus              70.0   ok            ok        70       3   10.0   \n",
       "\n",
       "  mark_control  length master                 created_at  \\\n",
       "0         None     NaN  adlet 2023-02-14 12:37:03.826308   \n",
       "1         None     NaN  adlet 2023-02-14 12:43:20.990433   \n",
       "2           ok   100.0  adlet 2023-02-14 13:11:58.860257   \n",
       "\n",
       "                  updated_at  \n",
       "0 2023-02-14 12:37:03.826308  \n",
       "1 2023-02-14 12:43:20.990433  \n",
       "2 2023-02-14 13:11:58.860257  "
      ]
     },
     "execution_count": 11,
     "metadata": {},
     "output_type": "execute_result"
    }
   ],
   "source": [
    "df"
   ]
  },
  {
   "cell_type": "code",
   "execution_count": null,
   "metadata": {},
   "outputs": [],
   "source": []
  }
 ],
 "metadata": {
  "kernelspec": {
   "display_name": "Python 3.9.12 64-bit",
   "language": "python",
   "name": "python3"
  },
  "language_info": {
   "codemirror_mode": {
    "name": "ipython",
    "version": 3
   },
   "file_extension": ".py",
   "mimetype": "text/x-python",
   "name": "python",
   "nbconvert_exporter": "python",
   "pygments_lexer": "ipython3",
   "version": "3.9.12"
  },
  "orig_nbformat": 4,
  "vscode": {
   "interpreter": {
    "hash": "aee8b7b246df8f9039afb4144a1f6fd8d2ca17a180786b69acc140d282b71a49"
   }
  }
 },
 "nbformat": 4,
 "nbformat_minor": 2
}
